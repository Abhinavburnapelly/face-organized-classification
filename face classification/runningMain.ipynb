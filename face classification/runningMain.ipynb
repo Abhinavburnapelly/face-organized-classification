{
 "cells": [
  {
   "cell_type": "code",
   "execution_count": 1,
   "metadata": {},
   "outputs": [],
   "source": [
    "import face_recognition;\n",
    "import os;\n",
    "import cv2;\n",
    "import shutil"
   ]
  },
  {
   "cell_type": "code",
   "execution_count": 2,
   "metadata": {},
   "outputs": [],
   "source": [
    "name=input(\"Enter the name of known file\")"
   ]
  },
  {
   "cell_type": "code",
   "execution_count": 3,
   "metadata": {},
   "outputs": [],
   "source": [
    "# name='suprith1.jpg'"
   ]
  },
  {
   "cell_type": "code",
   "execution_count": 4,
   "metadata": {},
   "outputs": [],
   "source": [
    "compare_path=\"comparing image\"\n",
    "known_image=cv2.imread(os.path.join(compare_path,name))\n",
    "known_image_encoding=face_recognition.face_encodings(known_image)\n",
    "folder_name=name.split('.')[0]\n",
    "os.mkdir('known image')\n",
    "known_images_path='known image/'+folder_name\n",
    "os.mkdir(known_images_path)\n",
    "\n"
   ]
  },
  {
   "cell_type": "code",
   "execution_count": 5,
   "metadata": {},
   "outputs": [
    {
     "data": {
      "text/plain": [
       "['download.jpeg',\n",
       " 'unknown2.jpeg',\n",
       " 'unknown3.jpeg',\n",
       " 'unknown4.jpeg',\n",
       " 'unknown5.jpeg']"
      ]
     },
     "execution_count": 5,
     "metadata": {},
     "output_type": "execute_result"
    }
   ],
   "source": [
    "os.listdir(\"unknown images\")"
   ]
  },
  {
   "cell_type": "code",
   "execution_count": 6,
   "metadata": {},
   "outputs": [
    {
     "name": "stdout",
     "output_type": "stream",
     "text": [
      "Starting to compare: download.jpeg elon musk.jpeg==> True download.jpeg\n",
      "Starting to compare: unknown2.jpeg elon musk.jpeg==> Not matched\n",
      "Starting to compare: unknown3.jpeg elon musk.jpeg==> Not matched\n",
      "Starting to compare: unknown4.jpeg elon musk.jpeg==> Not matched\n",
      "Starting to compare: unknown5.jpeg elon musk.jpeg==> True unknown5.jpeg\n"
     ]
    }
   ],
   "source": [
    "matched_image_name=[]\n",
    "\n",
    "for pic in os.listdir(\"unknown images\"):\n",
    "    unknown_image=cv2.imread(\"unknown images/\"+pic)\n",
    "    flag=0\n",
    "    flag1=0\n",
    "    print(\"Starting to compare:\",pic,name,end=\"==> \")\n",
    "    for i in range(4):\n",
    "        unknown_image_encodings=face_recognition.face_encodings(unknown_image)\n",
    "        try:\n",
    "            if(len(unknown_image_encodings)==0):\n",
    "                print(\"raised==> Roatating image for \",i+1,'times')\n",
    "                raise ValueError;\n",
    "        except ValueError:\n",
    "            unknown_image=cv2.rotate(unknown_image,cv2.ROTATE_90_COUNTERCLOCKWISE)\n",
    "            \n",
    "            continue\n",
    "        flag1=1;\n",
    "        p=0;\n",
    "        for unknown_image_encoding in unknown_image_encodings:\n",
    "            results=face_recognition.compare_faces(known_image_encoding,unknown_image_encoding)\n",
    "            \n",
    "            if(results[0]==True):\n",
    "                flag=1\n",
    "                matched_image_name.append(pic);\n",
    "                print(results[0],pic)\n",
    "                \n",
    "            if(flag==1):\n",
    "                break;\n",
    "        if(flag1==1 and flag==0):\n",
    "            print(\"Not matched\")\n",
    "            \n",
    "        break;\n",
    "    # else:\n",
    "    #     print(\"Not found\")\n",
    "        \n",
    "        \n",
    "            \n",
    "\n",
    "        "
   ]
  },
  {
   "cell_type": "code",
   "execution_count": 7,
   "metadata": {},
   "outputs": [
    {
     "name": "stdout",
     "output_type": "stream",
     "text": [
      "Copying folder in progress...==> copied: download.jpeg\n",
      " copied: unknown5.jpeg\n",
      "All folder copying completed.\n"
     ]
    }
   ],
   "source": [
    "from_folder_path='unknown images'\n",
    "to_folder_path=known_images_path\n",
    "\n",
    "print(\"Copying folder in progress...\",end=\"==>\")\n",
    "for pic in matched_image_name:\n",
    "    shutil.copy(os.path.join(from_folder_path,pic),os.path.join(to_folder_path,pic))\n",
    "    print(\" copied:\",pic)\n",
    "print(\"All folder copying completed.\")\n"
   ]
  }
 ],
 "metadata": {
  "kernelspec": {
   "display_name": "Python 3",
   "language": "python",
   "name": "python3"
  },
  "language_info": {
   "codemirror_mode": {
    "name": "ipython",
    "version": 3
   },
   "file_extension": ".py",
   "mimetype": "text/x-python",
   "name": "python",
   "nbconvert_exporter": "python",
   "pygments_lexer": "ipython3",
   "version": "3.10.4"
  },
  "orig_nbformat": 4
 },
 "nbformat": 4,
 "nbformat_minor": 2
}
